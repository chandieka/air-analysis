{
 "cells": [
  {
   "cell_type": "code",
   "execution_count": 1,
   "metadata": {},
   "outputs": [],
   "source": [
    "import pandas as pd\n",
    "import json"
   ]
  },
  {
   "cell_type": "code",
   "execution_count": 2,
   "metadata": {},
   "outputs": [],
   "source": [
    "df = pd.read_csv('./datasets/air_pollution.csv')"
   ]
  },
  {
   "cell_type": "code",
   "execution_count": 3,
   "metadata": {},
   "outputs": [],
   "source": [
    "df_per_zipcode = dict(tuple(df.groupby('PC4')))"
   ]
  },
  {
   "cell_type": "markdown",
   "metadata": {},
   "source": [
    "## Get air quality polutant per Zipcode max time range"
   ]
  },
  {
   "cell_type": "code",
   "execution_count": 4,
   "metadata": {},
   "outputs": [],
   "source": [
    "for i in df_per_zipcode:\n",
    "    df = df_per_zipcode[i][['date', 'pm10', 'pm2.5', 'no2', 'no', 'so2']]\n",
    "    start_date = df.date.min()\n",
    "    end_date = df.date.max()\n",
    "    \n",
    "    result = df.to_json(orient='table')\n",
    "\n",
    "    result = json.loads(result)\n",
    "    data = {}    \n",
    "    data[\"postcode4\"] = i\n",
    "    data['start_date'] = start_date\n",
    "    data['end_date'] = end_date\n",
    "    data['data'] = result['data']\n",
    "    \n",
    "    with open(f'./temp/{i}.json', mode='w') as fs:\n",
    "        fs.writelines(json.dumps(data, indent=4))"
   ]
  },
  {
   "cell_type": "markdown",
   "metadata": {},
   "source": [
    "## Get All air quality polutant for all Zipcode max time range"
   ]
  },
  {
   "cell_type": "code",
   "execution_count": 12,
   "metadata": {},
   "outputs": [],
   "source": [
    "data = {}\n",
    "data[\"postcode4\"] = []\n",
    "data['start_date'] = df.date.min()\n",
    "data['end_date'] = df.date.max()\n",
    "data['data'] = {}\n",
    "\n",
    "for i in df_per_zipcode:\n",
    "    df = df_per_zipcode[i][['date', 'pm10', 'pm2.5', 'no2', 'no', 'so2']]\n",
    "    start_date = df.date.min()\n",
    "    end_date = df.date.max()\n",
    "    \n",
    "    result = df.to_json(orient='table')\n",
    "\n",
    "    result = json.loads(result)\n",
    "    data[\"postcode4\"] += [i]\n",
    "    data['data'][i] = result['data']\n",
    "    \n",
    "with open(f'./temp/air-quality-all.json', mode='w') as fs:\n",
    "    fs.writelines(json.dumps(data, indent=4))"
   ]
  }
 ],
 "metadata": {
  "kernelspec": {
   "display_name": "Python 3.9.12 ('base')",
   "language": "python",
   "name": "python3"
  },
  "language_info": {
   "codemirror_mode": {
    "name": "ipython",
    "version": 3
   },
   "file_extension": ".py",
   "mimetype": "text/x-python",
   "name": "python",
   "nbconvert_exporter": "python",
   "pygments_lexer": "ipython3",
   "version": "3.9.12"
  },
  "orig_nbformat": 4,
  "vscode": {
   "interpreter": {
    "hash": "3f83a4b8e1c187aca35894c8eeaad8267ead7007e3a6e08dfe58ab16c9dd478f"
   }
  }
 },
 "nbformat": 4,
 "nbformat_minor": 2
}
